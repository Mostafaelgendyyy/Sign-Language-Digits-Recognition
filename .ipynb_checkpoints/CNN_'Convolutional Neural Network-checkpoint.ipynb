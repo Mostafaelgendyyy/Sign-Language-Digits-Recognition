{
 "cells": [
  {
   "cell_type": "markdown",
   "id": "212eed60",
   "metadata": {},
   "source": [
    "# Import Used Libraries"
   ]
  },
  {
   "cell_type": "code",
   "execution_count": 1,
   "id": "11bc1392",
   "metadata": {},
   "outputs": [],
   "source": [
    "from skimage import color\n",
    "from skimage import io\n",
    "from skimage.transform import resize\n",
    "\n",
    "import pandas as pd\n",
    "import numpy as np\n",
    "import os\n",
    "import matplotlib.pyplot as plt\n",
    "\n",
    "from sklearn.model_selection import KFold\n",
    "from keras.utils import to_categorical\n",
    "from keras.models import Sequential\n",
    "from keras.layers import Conv2D, MaxPooling2D, Dense, Flatten\n",
    "from keras.optimizers import SGD\n",
    "from PIL import Image\n",
    "from sklearn.metrics import classification_report\n",
    "from tensorflow.keras.layers import Dropout\n",
    "from tensorflow.keras.optimizers import Adam # - Works"
   ]
  },
  {
   "cell_type": "markdown",
   "id": "6a6d8259",
   "metadata": {},
   "source": [
    "# Reading Dataset"
   ]
  },
  {
   "cell_type": "code",
   "execution_count": 2,
   "id": "889ca25e",
   "metadata": {},
   "outputs": [
    {
     "name": "stdout",
     "output_type": "stream",
     "text": [
      "0\n",
      "1\n",
      "2\n",
      "3\n",
      "4\n",
      "5\n",
      "6\n",
      "7\n",
      "8\n",
      "9\n"
     ]
    }
   ],
   "source": [
    "Y=[]\n",
    "lis=[]\n",
    "Dataset=[]\n",
    "Dataset_Path=r'C:\\Users\\Mostafa Elgendy\\MachineLearning_Project\\Sign-Language-Digits-Dataset-master\\Dataset'\n",
    "for File_Name in os.listdir(Dataset_Path):\n",
    "    print(File_Name)\n",
    "    #print(os.path.join(Dataset_Path,File_Name))    \n",
    "    NewPath=os.path.join(Dataset_Path,File_Name)\n",
    "    #print(NewPath)\n",
    "    for f in os.listdir(NewPath):\n",
    "        #img= cv2.imread(os.path.join(NewPath,f))\n",
    "        img=io.imread(os.path.join(NewPath,f))\n",
    "        \n",
    "        resized_img = resize(img, (100, 100))\n",
    "        resized_img*=255\n",
    "        Dataset.append(resized_img)\n",
    "        Y.append(File_Name)\n",
    "\n",
    "Dataset=np.array(Dataset,dtype=float)\n",
    "Y = np.array(Y).astype('int32')"
   ]
  },
  {
   "cell_type": "markdown",
   "id": "3ebd0c96",
   "metadata": {},
   "source": [
    "# Normalization and MinMax Scaler, Change to RGB COLOR MODEL"
   ]
  },
  {
   "cell_type": "code",
   "execution_count": 3,
   "id": "ef641189",
   "metadata": {},
   "outputs": [],
   "source": [
    "sum_Dataset = 0\n",
    "for x in Dataset:\n",
    "  sum_Dataset += x\n",
    "average = sum_Dataset / len(Dataset)  #calculate average for all images,\n",
    "Dataset = Dataset - average  #subtract this averages from each image."
   ]
  },
  {
   "cell_type": "code",
   "execution_count": 4,
   "id": "211d1a35",
   "metadata": {},
   "outputs": [
    {
     "data": {
      "text/plain": [
       "144.0038738017535"
      ]
     },
     "execution_count": 4,
     "metadata": {},
     "output_type": "execute_result"
    }
   ],
   "source": [
    "Dataset.max()"
   ]
  },
  {
   "cell_type": "code",
   "execution_count": 5,
   "id": "e8ad5b4d",
   "metadata": {
    "scrolled": true
   },
   "outputs": [
    {
     "data": {
      "text/plain": [
       "array([[[[0.72490281, 0.72914296, 0.72542123],\n",
       "         [0.72242714, 0.72669148, 0.72284213],\n",
       "         [0.72339577, 0.72744526, 0.723298  ],\n",
       "         ...,\n",
       "         [0.7109848 , 0.71338445, 0.69047406],\n",
       "         [0.71944735, 0.71603229, 0.6820456 ],\n",
       "         [0.72054134, 0.7199888 , 0.67744305]],\n",
       "\n",
       "        [[0.72130556, 0.72556711, 0.72176188],\n",
       "         [0.72180041, 0.72607534, 0.72215608],\n",
       "         [0.71968214, 0.72372881, 0.7195169 ],\n",
       "         ...,\n",
       "         [0.72233657, 0.72479073, 0.71048063],\n",
       "         [0.72217014, 0.71884921, 0.69624401],\n",
       "         [0.72031658, 0.71697365, 0.68875185]],\n",
       "\n",
       "        [[0.717553  , 0.72169532, 0.71769053],\n",
       "         [0.71798527, 0.72215052, 0.71802451],\n",
       "         [0.71546295, 0.71942518, 0.7150165 ],\n",
       "         ...,\n",
       "         [0.72503597, 0.72714181, 0.70717376],\n",
       "         [0.72220236, 0.71851378, 0.69024222],\n",
       "         [0.71481143, 0.71109969, 0.67721142]],\n",
       "\n",
       "        ...,\n",
       "\n",
       "        [[0.68348345, 0.67604824, 0.68166994],\n",
       "         [0.6821595 , 0.67473434, 0.68031167],\n",
       "         [0.6811101 , 0.67311815, 0.67902785],\n",
       "         ...,\n",
       "         [0.57993716, 0.47811891, 0.39637876],\n",
       "         [0.57578791, 0.47968314, 0.39533775],\n",
       "         [0.57902469, 0.48289624, 0.39860605]],\n",
       "\n",
       "        [[0.68478058, 0.67738015, 0.67731546],\n",
       "         [0.68647398, 0.67908796, 0.67898262],\n",
       "         [0.68265786, 0.67472736, 0.67494242],\n",
       "         ...,\n",
       "         [0.58621299, 0.48448078, 0.40288846],\n",
       "         [0.58206712, 0.48605692, 0.40184321],\n",
       "         [0.57950302, 0.48347628, 0.39931727]],\n",
       "\n",
       "        [[0.68793125, 0.68058766, 0.68056556],\n",
       "         [0.6868087 , 0.67947593, 0.67941051],\n",
       "         [0.68315748, 0.67524982, 0.6755243 ],\n",
       "         ...,\n",
       "         [0.59223086, 0.49057597, 0.40893861],\n",
       "         [0.58517937, 0.48923341, 0.40502043],\n",
       "         [0.58266133, 0.48670046, 0.40253101]]],\n",
       "\n",
       "\n",
       "       [[[0.71628141, 0.72052157, 0.71679984],\n",
       "         [0.71380574, 0.71807009, 0.71422074],\n",
       "         [0.71190057, 0.71595007, 0.71180281],\n",
       "         ...,\n",
       "         [0.7138586 , 0.71338445, 0.70771685],\n",
       "         [0.71657355, 0.71603229, 0.71078358],\n",
       "         [0.71479375, 0.7142412 , 0.70905483]],\n",
       "\n",
       "        [[0.71268416, 0.71694572, 0.71314049],\n",
       "         [0.71030522, 0.71458014, 0.71066089],\n",
       "         [0.70818694, 0.71223362, 0.70802171],\n",
       "         ...,\n",
       "         [0.71371518, 0.71329554, 0.70760683],\n",
       "         [0.71354875, 0.71310162, 0.7077392 ],\n",
       "         [0.71456899, 0.71409985, 0.70886844]],\n",
       "\n",
       "        [[0.7089316 , 0.71307393, 0.70906914],\n",
       "         [0.70649008, 0.71065533, 0.70652932],\n",
       "         [0.70396776, 0.70792999, 0.70352131],\n",
       "         ...,\n",
       "         [0.71354078, 0.71277282, 0.70717376],\n",
       "         [0.71358097, 0.71276619, 0.70748501],\n",
       "         [0.71481143, 0.71397349, 0.7088232 ]],\n",
       "\n",
       "        ...,\n",
       "\n",
       "        [[0.64325028, 0.64156267, 0.64718437],\n",
       "         [0.64192633, 0.64024876, 0.6458261 ],\n",
       "         [0.64087693, 0.63863257, 0.64454228],\n",
       "         ...,\n",
       "         [0.64028691, 0.63905159, 0.64352538],\n",
       "         [0.64188526, 0.64061582, 0.64535816],\n",
       "         [0.64224825, 0.64095512, 0.64575267]],\n",
       "\n",
       "        [[0.65316881, 0.64576837, 0.64570369],\n",
       "         [0.64911461, 0.64172859, 0.64162325],\n",
       "         [0.64817228, 0.64024179, 0.64620444],\n",
       "         ...,\n",
       "         [0.64081515, 0.64253966, 0.63853989],\n",
       "         [0.64816448, 0.64124201, 0.64036844],\n",
       "         [0.65134796, 0.64440896, 0.64359009]],\n",
       "\n",
       "        [[0.64482428, 0.63748069, 0.63745859],\n",
       "         [0.64370173, 0.63636896, 0.63630354],\n",
       "         [0.64292431, 0.63501665, 0.63529113],\n",
       "         ...,\n",
       "         [0.63533783, 0.63426587, 0.64459004],\n",
       "         [0.64552913, 0.6386709 , 0.64354566],\n",
       "         [0.64588489, 0.63901175, 0.64393004]]],\n",
       "\n",
       "\n",
       "       [[[0.72202901, 0.72339537, 0.71392604],\n",
       "         [0.71955334, 0.72094389, 0.71134694],\n",
       "         [0.71764817, 0.71882386, 0.70892901],\n",
       "         ...,\n",
       "         [0.73972278, 0.73924863, 0.73358103],\n",
       "         [0.73956394, 0.73902267, 0.73377396],\n",
       "         [0.73778413, 0.73723159, 0.73204521]],\n",
       "\n",
       "        [[0.71555796, 0.71694572, 0.70739289],\n",
       "         [0.71317902, 0.71458014, 0.70491329],\n",
       "         [0.71393454, 0.71510741, 0.70514791],\n",
       "         ...,\n",
       "         [0.73383176, 0.73341213, 0.72772342],\n",
       "         [0.73653913, 0.736092  , 0.73072958],\n",
       "         [0.73468557, 0.73421644, 0.72898502]],\n",
       "\n",
       "        [[0.717553  , 0.71882152, 0.70906914],\n",
       "         [0.71511147, 0.71640293, 0.70652932],\n",
       "         [0.71258915, 0.71367759, 0.70352131],\n",
       "         ...,\n",
       "         [0.73078357, 0.73001561, 0.72441655],\n",
       "         [0.73369756, 0.73288277, 0.72760159],\n",
       "         [0.73492802, 0.73409007, 0.72893979]],\n",
       "\n",
       "        ...,\n",
       "\n",
       "        [[0.67773586, 0.66742685, 0.68166994],\n",
       "         [0.6764119 , 0.66611295, 0.68031167],\n",
       "         [0.6753625 , 0.66449675, 0.67902785],\n",
       "         ...,\n",
       "         [0.69488907, 0.69365375, 0.69812754],\n",
       "         [0.69648742, 0.69521798, 0.69996033],\n",
       "         [0.69685041, 0.69555728, 0.70035483]],\n",
       "\n",
       "        [[0.65316881, 0.64289458, 0.63708229],\n",
       "         [0.65198841, 0.64172859, 0.63587566],\n",
       "         [0.65104608, 0.64024179, 0.63470924],\n",
       "         ...,\n",
       "         [0.70116491, 0.69426803, 0.69888965],\n",
       "         [0.70276664, 0.69584417, 0.7007182 ],\n",
       "         [0.70595012, 0.69901112, 0.70393985]],\n",
       "\n",
       "        [[0.66781466, 0.65184968, 0.6259634 ],\n",
       "         [0.66669212, 0.65073795, 0.62480835],\n",
       "         [0.66591469, 0.64938564, 0.62379593],\n",
       "         ...,\n",
       "         [0.70143518, 0.69461562, 0.6991922 ],\n",
       "         [0.70300509, 0.69614686, 0.70102162],\n",
       "         [0.70623464, 0.6993615 , 0.70427979]]],\n",
       "\n",
       "\n",
       "       ...,\n",
       "\n",
       "\n",
       "       [[[0.62719368, 0.62856003, 0.63920729],\n",
       "         [0.62471801, 0.62610856, 0.6366282 ],\n",
       "         [0.62568664, 0.62686233, 0.63995786],\n",
       "         ...,\n",
       "         [0.60465427, 0.59268493, 0.58414354],\n",
       "         [0.60449544, 0.59245898, 0.58433647],\n",
       "         [0.60271563, 0.59066789, 0.58260772]],\n",
       "\n",
       "        [[0.62647022, 0.62785798, 0.63842174],\n",
       "         [0.62696508, 0.62836621, 0.63881594],\n",
       "         [0.6277206 , 0.62889348, 0.64192436],\n",
       "         ...,\n",
       "         [0.60163706, 0.58972223, 0.58115973],\n",
       "         [0.60147063, 0.58952831, 0.58129209],\n",
       "         [0.60249087, 0.59052654, 0.58242133]],\n",
       "\n",
       "        [[0.62559146, 0.62685999, 0.63722419],\n",
       "         [0.62602374, 0.62731519, 0.63755817],\n",
       "         [0.62924901, 0.63033745, 0.64317156],\n",
       "         ...,\n",
       "         [0.60146266, 0.58919951, 0.58072665],\n",
       "         [0.60150285, 0.59206667, 0.5752903 ],\n",
       "         [0.60273331, 0.59327398, 0.5766285 ]],\n",
       "\n",
       "        ...,\n",
       "\n",
       "        [[0.67773586, 0.68179584, 0.69029134],\n",
       "         [0.68503329, 0.68910333, 0.69755446],\n",
       "         [0.6724887 , 0.67599194, 0.68477545],\n",
       "         ...,\n",
       "         [0.64890831, 0.64479919, 0.63203019],\n",
       "         [0.64475906, 0.64061582, 0.62811538],\n",
       "         [0.64512205, 0.64095512, 0.62850988]],\n",
       "\n",
       "        [[0.67615919, 0.68025395, 0.68881065],\n",
       "         [0.68934778, 0.69345695, 0.70197301],\n",
       "         [0.68840545, 0.69197015, 0.7008066 ],\n",
       "         ...,\n",
       "         [0.65518414, 0.64541346, 0.63566609],\n",
       "         [0.65103827, 0.64124201, 0.63174705],\n",
       "         [0.65134796, 0.64153517, 0.6320949 ]],\n",
       "\n",
       "        [[0.67930986, 0.68346146, 0.69206076],\n",
       "         [0.68106111, 0.68522353, 0.6937795 ],\n",
       "         [0.68890508, 0.69249261, 0.70138848],\n",
       "         ...,\n",
       "         [0.65258062, 0.64288726, 0.63309485],\n",
       "         [0.65127673, 0.6415447 , 0.63205047],\n",
       "         [0.64875868, 0.63901175, 0.62956105]]],\n",
       "\n",
       "\n",
       "       [[[0.58121291, 0.57395787, 0.56161475],\n",
       "         [0.58448484, 0.57725399, 0.56478325],\n",
       "         [0.58545347, 0.57800777, 0.56523911],\n",
       "         ...,\n",
       "         [0.59315908, 0.59843253, 0.59563873],\n",
       "         [0.59300024, 0.59820657, 0.59583166],\n",
       "         [0.59409424, 0.59928929, 0.59697671]],\n",
       "\n",
       "        [[0.58911085, 0.58187721, 0.56945059],\n",
       "         [0.58960571, 0.58238544, 0.56984479],\n",
       "         [0.58461363, 0.57716511, 0.56433181],\n",
       "         ...,\n",
       "         [0.59014187, 0.59546983, 0.59265492],\n",
       "         [0.59284923, 0.5981497 , 0.59566108],\n",
       "         [0.59386947, 0.59914794, 0.59679032]],\n",
       "\n",
       "        [[0.58823209, 0.58087922, 0.56825304],\n",
       "         [0.58579057, 0.57846063, 0.56571322],\n",
       "         [0.58326825, 0.57573529, 0.56270521],\n",
       "         ...,\n",
       "         [0.59284127, 0.5978209 , 0.59509564],\n",
       "         [0.59288146, 0.59781427, 0.59540689],\n",
       "         [0.59411192, 0.59902157, 0.59674508]],\n",
       "\n",
       "        ...,\n",
       "\n",
       "        [[0.60014331, 0.5955819 , 0.58396081],\n",
       "         [0.60744075, 0.60288939, 0.59122394],\n",
       "         [0.61501274, 0.60989459, 0.59856151],\n",
       "         ...,\n",
       "         [0.61154893, 0.61318741, 0.60903981],\n",
       "         [0.61314728, 0.61475164, 0.61087259],\n",
       "         [0.61638407, 0.61796474, 0.61414089]],\n",
       "\n",
       "        [[0.59856665, 0.59404001, 0.58248013],\n",
       "         [0.60313384, 0.59862162, 0.58702109],\n",
       "         [0.60793911, 0.60288241, 0.59160228],\n",
       "         ...,\n",
       "         [0.61495097, 0.61667548, 0.61267571],\n",
       "         [0.6165527 , 0.61825163, 0.61450426],\n",
       "         [0.61973619, 0.62141858, 0.61772591]],\n",
       "\n",
       "        [[0.60171731, 0.59724752, 0.58573023],\n",
       "         [0.60346856, 0.59900959, 0.58744898],\n",
       "         [0.60556494, 0.60053107, 0.58931036],\n",
       "         ...,\n",
       "         [0.61522124, 0.61702308, 0.61297826],\n",
       "         [0.61679115, 0.61855432, 0.61480768],\n",
       "         [0.62002071, 0.62176896, 0.61806586]]],\n",
       "\n",
       "\n",
       "       [[[0.56684392, 0.56821028, 0.57885754],\n",
       "         [0.56724205, 0.5686326 , 0.57915224],\n",
       "         [0.56533688, 0.56651257, 0.5767343 ],\n",
       "         ...,\n",
       "         [0.59028528, 0.58118974, 0.56402695],\n",
       "         [0.59300024, 0.58383758, 0.56709368],\n",
       "         [0.59122044, 0.5820465 , 0.56536493]],\n",
       "\n",
       "        [[0.56612047, 0.56750822, 0.57807199],\n",
       "         [0.56661532, 0.56801645, 0.57846618],\n",
       "         [0.56449705, 0.56566992, 0.57582701],\n",
       "         ...,\n",
       "         [0.58726807, 0.57822704, 0.56104314],\n",
       "         [0.58997544, 0.58090691, 0.5640493 ],\n",
       "         [0.59099568, 0.58190515, 0.56517854]],\n",
       "\n",
       "        [[0.56524171, 0.56651023, 0.57687444],\n",
       "         [0.56854778, 0.56983923, 0.58008221],\n",
       "         [0.56602546, 0.56711389, 0.5770742 ],\n",
       "         ...,\n",
       "         [0.58709367, 0.58057811, 0.56348387],\n",
       "         [0.58713386, 0.58057148, 0.56379511],\n",
       "         [0.58836432, 0.58177878, 0.5651333 ]],\n",
       "\n",
       "        ...,\n",
       "\n",
       "        [[0.58864812, 0.5927081 , 0.59545601],\n",
       "         [0.59307176, 0.5971418 , 0.59984533],\n",
       "         [0.59202236, 0.5955256 , 0.59856151],\n",
       "         ...,\n",
       "         [0.62304413, 0.61893501, 0.60616601],\n",
       "         [0.62464247, 0.62049924, 0.60799879],\n",
       "         [0.62787926, 0.62371233, 0.61126709]],\n",
       "\n",
       "        [[0.58419766, 0.58829242, 0.59110153],\n",
       "         [0.59163865, 0.59574782, 0.59851628],\n",
       "         [0.59357012, 0.59713482, 0.60022367],\n",
       "         ...,\n",
       "         [0.62357236, 0.61954928, 0.60692811],\n",
       "         [0.62517409, 0.62112543, 0.60875666],\n",
       "         [0.62835758, 0.62429238, 0.61197831]],\n",
       "\n",
       "        [[0.57872693, 0.58287853, 0.58573023],\n",
       "         [0.58909957, 0.59326199, 0.59607037],\n",
       "         [0.59406974, 0.59765728, 0.60080555],\n",
       "         ...,\n",
       "         [0.62671643, 0.62277067, 0.61010446],\n",
       "         [0.62828634, 0.62430191, 0.61193388],\n",
       "         [0.6286421 , 0.62464276, 0.61231826]]]])"
      ]
     },
     "execution_count": 5,
     "metadata": {},
     "output_type": "execute_result"
    }
   ],
   "source": [
    "Dataset=(Dataset-Dataset.min())/(Dataset.max()-Dataset.min())  #MIN MAX Scaller\n",
    "\n",
    "#Dataset = Dataset / 255\n",
    "Dataset"
   ]
  },
  {
   "cell_type": "code",
   "execution_count": 6,
   "id": "a235dd1e",
   "metadata": {},
   "outputs": [
    {
     "data": {
      "text/plain": [
       "'\\nIn SKIMAGE Library, it takes the Images in form of RGB COLOR MODEL\\nSO, the normal image is already in the Dataset is INFORM OF RGB\\n'"
      ]
     },
     "execution_count": 6,
     "metadata": {},
     "output_type": "execute_result"
    }
   ],
   "source": [
    "'''\n",
    "In SKIMAGE Library, it takes the Images in form of RGB COLOR MODEL\n",
    "SO, the normal image is already in the Dataset is INFORM OF RGB\n",
    "'''"
   ]
  },
  {
   "cell_type": "code",
   "execution_count": 7,
   "id": "2d54c9b5",
   "metadata": {},
   "outputs": [],
   "source": [
    "RGBDataset=[]\n",
    "for i in range (Dataset.shape[0]):\n",
    "     RGBDataset.append(Dataset[i])\n",
    "RGBDataset=np.array(RGBDataset)"
   ]
  },
  {
   "cell_type": "markdown",
   "id": "089d5f56",
   "metadata": {},
   "source": [
    "### Image Before RGBScale "
   ]
  },
  {
   "cell_type": "code",
   "execution_count": 8,
   "id": "9256a876",
   "metadata": {},
   "outputs": [
    {
     "data": {
      "text/plain": [
       "<matplotlib.image.AxesImage at 0x1787d764580>"
      ]
     },
     "execution_count": 8,
     "metadata": {},
     "output_type": "execute_result"
    },
    {
     "data": {
      "image/png": "[encoded data removed]",
      "text/plain": [
       "<Figure size 640x480 with 1 Axes>"
      ]
     },
     "metadata": {},
     "output_type": "display_data"
    }
   ],
   "source": [
    "io.imshow(Dataset[0])"
   ]
  },
  {
   "cell_type": "markdown",
   "id": "39e1d2db",
   "metadata": {},
   "source": [
    "### Image After RGBScale "
   ]
  },
  {
   "cell_type": "code",
   "execution_count": 9,
   "id": "805ecefb",
   "metadata": {
    "scrolled": false
   },
   "outputs": [
    {
     "data": {
      "text/plain": [
       "<matplotlib.image.AxesImage at 0x17830667ac0>"
      ]
     },
     "execution_count": 9,
     "metadata": {},
     "output_type": "execute_result"
    },
    {
     "data": {
      "image/png": "[encoded data removed]",
      "text/plain": [
       "<Figure size 640x480 with 1 Axes>"
      ]
     },
     "metadata": {},
     "output_type": "display_data"
    }
   ],
   "source": [
    "io.imshow(RGBDataset[0])"
   ]
  },
  {
   "cell_type": "markdown",
   "id": "9d1a8223",
   "metadata": {},
   "source": [
    "# Splitting and Shuffling Dataset"
   ]
  },
  {
   "cell_type": "code",
   "execution_count": 10,
   "id": "6f940a2e",
   "metadata": {},
   "outputs": [],
   "source": [
    "#Shuffle Dataset and split\n",
    "from sklearn.model_selection import train_test_split\n",
    "x_Train, x_Test, y_Train, y_Test = train_test_split(RGBDataset, Y, test_size=0.2, random_state=1,shuffle=True)"
   ]
  },
  {
   "cell_type": "code",
   "execution_count": 11,
   "id": "aeb971d7",
   "metadata": {
    "scrolled": true
   },
   "outputs": [
    {
     "name": "stdout",
     "output_type": "stream",
     "text": [
      "(1649,)\n",
      "(1649, 100, 100, 3)\n"
     ]
    }
   ],
   "source": [
    "print(y_Train.shape)\n",
    "print(x_Train.shape)"
   ]
  },
  {
   "cell_type": "code",
   "execution_count": 12,
   "id": "ceb975da",
   "metadata": {},
   "outputs": [],
   "source": [
    "from tensorflow.keras.utils import to_categorical\n",
    "y_Train = to_categorical(y_Train)\n",
    "y_Test = to_categorical(y_Test)"
   ]
  },
  {
   "cell_type": "markdown",
   "id": "4a30ad3c",
   "metadata": {},
   "source": [
    "# Report Cross Validation, Precision, Recall and F1 Score"
   ]
  },
  {
   "cell_type": "code",
   "execution_count": 13,
   "id": "a5ad5c6f",
   "metadata": {},
   "outputs": [],
   "source": [
    "# evaluate a model using k-fold cross-validation\n",
    "def evaluate_model(model, dataX, dataY, n_folds=5):\n",
    "    scores, histories = list(), list()\n",
    "    sum_ = 0.0\n",
    "    # prepare cross validation\n",
    "    kfold = KFold(n_folds, shuffle=True, random_state=1)\n",
    "    # enumerate splits\n",
    "    for train_ix, val_ix in kfold.split(dataX):\n",
    "        # select rows for train and test\n",
    "        trainX, trainY, valX, valY = dataX[train_ix], dataY[train_ix], dataX[val_ix], dataY[val_ix]\n",
    "        # fit model\n",
    "    \n",
    "        history = model.fit(trainX, trainY, epochs=10, batch_size=32, validation_data=(valX, valY), verbose=0)\n",
    "        # evaluate model\n",
    "        _, acc = model.evaluate(valX, valY, verbose=0)\n",
    "        # stores scores\n",
    "        scores.append(acc)\n",
    "        histories.append(history)\n",
    "        sum_ += acc\n",
    "    score = sum_ / n_folds\n",
    "    return score\n"
   ]
  },
  {
   "cell_type": "code",
   "execution_count": 14,
   "id": "05a252e7",
   "metadata": {},
   "outputs": [],
   "source": [
    "def applyModel(model,scoreOfVal):\n",
    "    #print('Finish prep')\n",
    "    #print('finish eva val')\n",
    "    # Final evaluation of the model\n",
    "    _, scoreOfTest = model.evaluate(x_Test, y_Test, batch_size=32, verbose=0)\n",
    "    #print('finish eva test')\n",
    "    print('accuracy for Validation = ', scoreOfVal)\n",
    "    print('accuracy for Testing = ', scoreOfTest)\n",
    "\n",
    "    #predict_x=model.predict(x_Test) \n",
    "    #classes_x=np.argmax(predict_x,axis=1)\n",
    "    ypred=model.predict(x_Test)\n",
    "    ypred=np.argmax(ypred,axis=1)\n",
    "    \n",
    "    y_Test2=np.argmax(y_Test,axis=1)\n",
    "    \n",
    "    print(classification_report(y_Test2, ypred))"
   ]
  },
  {
   "cell_type": "markdown",
   "id": "5c443001",
   "metadata": {},
   "source": [
    "# RUN NN MODELS"
   ]
  },
  {
   "cell_type": "markdown",
   "id": "c52764c5",
   "metadata": {},
   "source": [
    "### MODEL#1"
   ]
  },
  {
   "cell_type": "code",
   "execution_count": 15,
   "id": "2f6c7b9b",
   "metadata": {},
   "outputs": [
    {
     "ename": "KeyboardInterrupt",
     "evalue": "",
     "output_type": "error",
     "traceback": [
      "\u001b[1;31m---------------------------------------------------------------------------\u001b[0m",
      "\u001b[1;31mKeyboardInterrupt\u001b[0m                         Traceback (most recent call last)",
      "Cell \u001b[1;32mIn[15], line 19\u001b[0m\n\u001b[0;32m     16\u001b[0m     model\u001b[38;5;241m.\u001b[39mcompile(loss\u001b[38;5;241m=\u001b[39m\u001b[38;5;124m'\u001b[39m\u001b[38;5;124mcategorical_crossentropy\u001b[39m\u001b[38;5;124m'\u001b[39m, optimizer\u001b[38;5;241m=\u001b[39m\u001b[38;5;124m'\u001b[39m\u001b[38;5;124madam\u001b[39m\u001b[38;5;124m'\u001b[39m, metrics\u001b[38;5;241m=\u001b[39m[\u001b[38;5;124m'\u001b[39m\u001b[38;5;124maccuracy\u001b[39m\u001b[38;5;124m'\u001b[39m])\n\u001b[0;32m     17\u001b[0m     \u001b[38;5;28;01mreturn\u001b[39;00m model\n\u001b[1;32m---> 19\u001b[0m model_Architecture_CNN\u001b[38;5;241m=\u001b[39m\u001b[43mConvolutional_Neural_Network_Model\u001b[49m\u001b[43m(\u001b[49m\u001b[43m)\u001b[49m\n",
      "Cell \u001b[1;32mIn[15], line 3\u001b[0m, in \u001b[0;36mConvolutional_Neural_Network_Model\u001b[1;34m()\u001b[0m\n\u001b[0;32m      1\u001b[0m \u001b[38;5;28;01mdef\u001b[39;00m \u001b[38;5;21mConvolutional_Neural_Network_Model\u001b[39m():\n\u001b[0;32m      2\u001b[0m     \u001b[38;5;66;03m# create model\u001b[39;00m\n\u001b[1;32m----> 3\u001b[0m     model \u001b[38;5;241m=\u001b[39m \u001b[43mSequential\u001b[49m\u001b[43m(\u001b[49m\u001b[43m)\u001b[49m\n\u001b[0;32m      4\u001b[0m     model\u001b[38;5;241m.\u001b[39madd(Conv2D(\u001b[38;5;241m32\u001b[39m, (\u001b[38;5;241m5\u001b[39m, \u001b[38;5;241m5\u001b[39m), input_shape\u001b[38;5;241m=\u001b[39m(\u001b[38;5;241m100\u001b[39m, \u001b[38;5;241m100\u001b[39m, \u001b[38;5;241m3\u001b[39m), activation\u001b[38;5;241m=\u001b[39m\u001b[38;5;124m'\u001b[39m\u001b[38;5;124mrelu\u001b[39m\u001b[38;5;124m'\u001b[39m))\n\u001b[0;32m      5\u001b[0m     model\u001b[38;5;241m.\u001b[39madd(MaxPooling2D())\n",
      "File \u001b[1;32m~\\AppData\\Local\\Programs\\Python\\Python310\\lib\\site-packages\\tensorflow\\python\\trackable\\base.py:205\u001b[0m, in \u001b[0;36mno_automatic_dependency_tracking.<locals>._method_wrapper\u001b[1;34m(self, *args, **kwargs)\u001b[0m\n\u001b[0;32m    203\u001b[0m \u001b[38;5;28mself\u001b[39m\u001b[38;5;241m.\u001b[39m_self_setattr_tracking \u001b[38;5;241m=\u001b[39m \u001b[38;5;28;01mFalse\u001b[39;00m  \u001b[38;5;66;03m# pylint: disable=protected-access\u001b[39;00m\n\u001b[0;32m    204\u001b[0m \u001b[38;5;28;01mtry\u001b[39;00m:\n\u001b[1;32m--> 205\u001b[0m   result \u001b[38;5;241m=\u001b[39m method(\u001b[38;5;28mself\u001b[39m, \u001b[38;5;241m*\u001b[39margs, \u001b[38;5;241m*\u001b[39m\u001b[38;5;241m*\u001b[39mkwargs)\n\u001b[0;32m    206\u001b[0m \u001b[38;5;28;01mfinally\u001b[39;00m:\n\u001b[0;32m    207\u001b[0m   \u001b[38;5;28mself\u001b[39m\u001b[38;5;241m.\u001b[39m_self_setattr_tracking \u001b[38;5;241m=\u001b[39m previous_value  \u001b[38;5;66;03m# pylint: disable=protected-access\u001b[39;00m\n",
      "File \u001b[1;32m~\\AppData\\Local\\Programs\\Python\\Python310\\lib\\site-packages\\keras\\utils\\traceback_utils.py:65\u001b[0m, in \u001b[0;36mfilter_traceback.<locals>.error_handler\u001b[1;34m(*args, **kwargs)\u001b[0m\n\u001b[0;32m     63\u001b[0m filtered_tb \u001b[38;5;241m=\u001b[39m \u001b[38;5;28;01mNone\u001b[39;00m\n\u001b[0;32m     64\u001b[0m \u001b[38;5;28;01mtry\u001b[39;00m:\n\u001b[1;32m---> 65\u001b[0m     \u001b[38;5;28;01mreturn\u001b[39;00m fn(\u001b[38;5;241m*\u001b[39margs, \u001b[38;5;241m*\u001b[39m\u001b[38;5;241m*\u001b[39mkwargs)\n\u001b[0;32m     66\u001b[0m \u001b[38;5;28;01mexcept\u001b[39;00m \u001b[38;5;167;01mException\u001b[39;00m \u001b[38;5;28;01mas\u001b[39;00m e:\n\u001b[0;32m     67\u001b[0m     filtered_tb \u001b[38;5;241m=\u001b[39m _process_traceback_frames(e\u001b[38;5;241m.\u001b[39m__traceback__)\n",
      "File \u001b[1;32m~\\AppData\\Local\\Programs\\Python\\Python310\\lib\\site-packages\\keras\\engine\\sequential.py:117\u001b[0m, in \u001b[0;36mSequential.__init__\u001b[1;34m(self, layers, name)\u001b[0m\n\u001b[0;32m    109\u001b[0m \u001b[38;5;124;03m\"\"\"Creates a `Sequential` model instance.\u001b[39;00m\n\u001b[0;32m    110\u001b[0m \n\u001b[0;32m    111\u001b[0m \u001b[38;5;124;03mArgs:\u001b[39;00m\n\u001b[0;32m    112\u001b[0m \u001b[38;5;124;03m  layers: Optional list of layers to add to the model.\u001b[39;00m\n\u001b[0;32m    113\u001b[0m \u001b[38;5;124;03m  name: Optional name for the model.\u001b[39;00m\n\u001b[0;32m    114\u001b[0m \u001b[38;5;124;03m\"\"\"\u001b[39;00m\n\u001b[0;32m    115\u001b[0m \u001b[38;5;66;03m# Skip the init in FunctionalModel since model doesn't have input/output\u001b[39;00m\n\u001b[0;32m    116\u001b[0m \u001b[38;5;66;03m# yet\u001b[39;00m\n\u001b[1;32m--> 117\u001b[0m \u001b[38;5;28;43msuper\u001b[39;49m\u001b[43m(\u001b[49m\u001b[43mfunctional\u001b[49m\u001b[38;5;241;43m.\u001b[39;49m\u001b[43mFunctional\u001b[49m\u001b[43m,\u001b[49m\u001b[43m \u001b[49m\u001b[38;5;28;43mself\u001b[39;49m\u001b[43m)\u001b[49m\u001b[38;5;241;43m.\u001b[39;49m\u001b[38;5;21;43m__init__\u001b[39;49m\u001b[43m(\u001b[49m\u001b[43mname\u001b[49m\u001b[38;5;241;43m=\u001b[39;49m\u001b[43mname\u001b[49m\u001b[43m,\u001b[49m\u001b[43m \u001b[49m\u001b[43mautocast\u001b[49m\u001b[38;5;241;43m=\u001b[39;49m\u001b[38;5;28;43;01mFalse\u001b[39;49;00m\u001b[43m)\u001b[49m\n\u001b[0;32m    118\u001b[0m base_layer\u001b[38;5;241m.\u001b[39mkeras_api_gauge\u001b[38;5;241m.\u001b[39mget_cell(\u001b[38;5;124m\"\u001b[39m\u001b[38;5;124mSequential\u001b[39m\u001b[38;5;124m\"\u001b[39m)\u001b[38;5;241m.\u001b[39mset(\u001b[38;5;28;01mTrue\u001b[39;00m)\n\u001b[0;32m    119\u001b[0m \u001b[38;5;28mself\u001b[39m\u001b[38;5;241m.\u001b[39msupports_masking \u001b[38;5;241m=\u001b[39m \u001b[38;5;28;01mTrue\u001b[39;00m\n",
      "File \u001b[1;32m~\\AppData\\Local\\Programs\\Python\\Python310\\lib\\site-packages\\tensorflow\\python\\trackable\\base.py:205\u001b[0m, in \u001b[0;36mno_automatic_dependency_tracking.<locals>._method_wrapper\u001b[1;34m(self, *args, **kwargs)\u001b[0m\n\u001b[0;32m    203\u001b[0m \u001b[38;5;28mself\u001b[39m\u001b[38;5;241m.\u001b[39m_self_setattr_tracking \u001b[38;5;241m=\u001b[39m \u001b[38;5;28;01mFalse\u001b[39;00m  \u001b[38;5;66;03m# pylint: disable=protected-access\u001b[39;00m\n\u001b[0;32m    204\u001b[0m \u001b[38;5;28;01mtry\u001b[39;00m:\n\u001b[1;32m--> 205\u001b[0m   result \u001b[38;5;241m=\u001b[39m method(\u001b[38;5;28mself\u001b[39m, \u001b[38;5;241m*\u001b[39margs, \u001b[38;5;241m*\u001b[39m\u001b[38;5;241m*\u001b[39mkwargs)\n\u001b[0;32m    206\u001b[0m \u001b[38;5;28;01mfinally\u001b[39;00m:\n\u001b[0;32m    207\u001b[0m   \u001b[38;5;28mself\u001b[39m\u001b[38;5;241m.\u001b[39m_self_setattr_tracking \u001b[38;5;241m=\u001b[39m previous_value  \u001b[38;5;66;03m# pylint: disable=protected-access\u001b[39;00m\n",
      "File \u001b[1;32m~\\AppData\\Local\\Programs\\Python\\Python310\\lib\\site-packages\\keras\\utils\\traceback_utils.py:65\u001b[0m, in \u001b[0;36mfilter_traceback.<locals>.error_handler\u001b[1;34m(*args, **kwargs)\u001b[0m\n\u001b[0;32m     63\u001b[0m filtered_tb \u001b[38;5;241m=\u001b[39m \u001b[38;5;28;01mNone\u001b[39;00m\n\u001b[0;32m     64\u001b[0m \u001b[38;5;28;01mtry\u001b[39;00m:\n\u001b[1;32m---> 65\u001b[0m     \u001b[38;5;28;01mreturn\u001b[39;00m fn(\u001b[38;5;241m*\u001b[39margs, \u001b[38;5;241m*\u001b[39m\u001b[38;5;241m*\u001b[39mkwargs)\n\u001b[0;32m     66\u001b[0m \u001b[38;5;28;01mexcept\u001b[39;00m \u001b[38;5;167;01mException\u001b[39;00m \u001b[38;5;28;01mas\u001b[39;00m e:\n\u001b[0;32m     67\u001b[0m     filtered_tb \u001b[38;5;241m=\u001b[39m _process_traceback_frames(e\u001b[38;5;241m.\u001b[39m__traceback__)\n",
      "File \u001b[1;32m~\\AppData\\Local\\Programs\\Python\\Python310\\lib\\site-packages\\keras\\engine\\training.py:323\u001b[0m, in \u001b[0;36mModel.__init__\u001b[1;34m(self, *args, **kwargs)\u001b[0m\n\u001b[0;32m    319\u001b[0m \u001b[38;5;28mself\u001b[39m\u001b[38;5;241m.\u001b[39m_checkpoint \u001b[38;5;241m=\u001b[39m tf\u001b[38;5;241m.\u001b[39mtrain\u001b[38;5;241m.\u001b[39mCheckpoint(root\u001b[38;5;241m=\u001b[39mweakref\u001b[38;5;241m.\u001b[39mref(\u001b[38;5;28mself\u001b[39m))\n\u001b[0;32m    321\u001b[0m \u001b[38;5;28mself\u001b[39m\u001b[38;5;241m.\u001b[39m_steps_per_execution \u001b[38;5;241m=\u001b[39m \u001b[38;5;28;01mNone\u001b[39;00m\n\u001b[1;32m--> 323\u001b[0m \u001b[38;5;28;43mself\u001b[39;49m\u001b[38;5;241;43m.\u001b[39;49m\u001b[43m_init_batch_counters\u001b[49m\u001b[43m(\u001b[49m\u001b[43m)\u001b[49m\n\u001b[0;32m    324\u001b[0m \u001b[38;5;28mself\u001b[39m\u001b[38;5;241m.\u001b[39m_base_model_initialized \u001b[38;5;241m=\u001b[39m \u001b[38;5;28;01mTrue\u001b[39;00m\n\u001b[0;32m    326\u001b[0m \u001b[38;5;66;03m# `jit_compile` starts off with None as default and gets overwritten by\u001b[39;00m\n\u001b[0;32m    327\u001b[0m \u001b[38;5;66;03m# the value specified in `Model.compile`, and this is effective for\u001b[39;00m\n\u001b[0;32m    328\u001b[0m \u001b[38;5;66;03m# `fit`, `evaluate`, and `predict`.\u001b[39;00m\n",
      "File \u001b[1;32m~\\AppData\\Local\\Programs\\Python\\Python310\\lib\\site-packages\\tensorflow\\python\\trackable\\base.py:205\u001b[0m, in \u001b[0;36mno_automatic_dependency_tracking.<locals>._method_wrapper\u001b[1;34m(self, *args, **kwargs)\u001b[0m\n\u001b[0;32m    203\u001b[0m \u001b[38;5;28mself\u001b[39m\u001b[38;5;241m.\u001b[39m_self_setattr_tracking \u001b[38;5;241m=\u001b[39m \u001b[38;5;28;01mFalse\u001b[39;00m  \u001b[38;5;66;03m# pylint: disable=protected-access\u001b[39;00m\n\u001b[0;32m    204\u001b[0m \u001b[38;5;28;01mtry\u001b[39;00m:\n\u001b[1;32m--> 205\u001b[0m   result \u001b[38;5;241m=\u001b[39m method(\u001b[38;5;28mself\u001b[39m, \u001b[38;5;241m*\u001b[39margs, \u001b[38;5;241m*\u001b[39m\u001b[38;5;241m*\u001b[39mkwargs)\n\u001b[0;32m    206\u001b[0m \u001b[38;5;28;01mfinally\u001b[39;00m:\n\u001b[0;32m    207\u001b[0m   \u001b[38;5;28mself\u001b[39m\u001b[38;5;241m.\u001b[39m_self_setattr_tracking \u001b[38;5;241m=\u001b[39m previous_value  \u001b[38;5;66;03m# pylint: disable=protected-access\u001b[39;00m\n",
      "File \u001b[1;32m~\\AppData\\Local\\Programs\\Python\\Python310\\lib\\site-packages\\keras\\engine\\training.py:338\u001b[0m, in \u001b[0;36mModel._init_batch_counters\u001b[1;34m(self)\u001b[0m\n\u001b[0;32m    333\u001b[0m \u001b[38;5;129m@tf\u001b[39m\u001b[38;5;241m.\u001b[39m__internal__\u001b[38;5;241m.\u001b[39mtracking\u001b[38;5;241m.\u001b[39mno_automatic_dependency_tracking\n\u001b[0;32m    334\u001b[0m \u001b[38;5;28;01mdef\u001b[39;00m \u001b[38;5;21m_init_batch_counters\u001b[39m(\u001b[38;5;28mself\u001b[39m):\n\u001b[0;32m    335\u001b[0m     \u001b[38;5;66;03m# Untracked Variables, used to keep track of mini-batches seen in `fit`,\u001b[39;00m\n\u001b[0;32m    336\u001b[0m     \u001b[38;5;66;03m# `evaluate`, and `predict`.\u001b[39;00m\n\u001b[0;32m    337\u001b[0m     agg \u001b[38;5;241m=\u001b[39m tf\u001b[38;5;241m.\u001b[39mVariableAggregation\u001b[38;5;241m.\u001b[39mONLY_FIRST_REPLICA\n\u001b[1;32m--> 338\u001b[0m     \u001b[38;5;28mself\u001b[39m\u001b[38;5;241m.\u001b[39m_train_counter \u001b[38;5;241m=\u001b[39m \u001b[43mtf\u001b[49m\u001b[38;5;241;43m.\u001b[39;49m\u001b[43mVariable\u001b[49m\u001b[43m(\u001b[49m\u001b[38;5;241;43m0\u001b[39;49m\u001b[43m,\u001b[49m\u001b[43m \u001b[49m\u001b[43mdtype\u001b[49m\u001b[38;5;241;43m=\u001b[39;49m\u001b[38;5;124;43m\"\u001b[39;49m\u001b[38;5;124;43mint64\u001b[39;49m\u001b[38;5;124;43m\"\u001b[39;49m\u001b[43m,\u001b[49m\u001b[43m \u001b[49m\u001b[43maggregation\u001b[49m\u001b[38;5;241;43m=\u001b[39;49m\u001b[43magg\u001b[49m\u001b[43m)\u001b[49m\n\u001b[0;32m    339\u001b[0m     \u001b[38;5;28mself\u001b[39m\u001b[38;5;241m.\u001b[39m_test_counter \u001b[38;5;241m=\u001b[39m tf\u001b[38;5;241m.\u001b[39mVariable(\u001b[38;5;241m0\u001b[39m, dtype\u001b[38;5;241m=\u001b[39m\u001b[38;5;124m\"\u001b[39m\u001b[38;5;124mint64\u001b[39m\u001b[38;5;124m\"\u001b[39m, aggregation\u001b[38;5;241m=\u001b[39magg)\n\u001b[0;32m    340\u001b[0m     \u001b[38;5;28mself\u001b[39m\u001b[38;5;241m.\u001b[39m_predict_counter \u001b[38;5;241m=\u001b[39m tf\u001b[38;5;241m.\u001b[39mVariable(\u001b[38;5;241m0\u001b[39m, dtype\u001b[38;5;241m=\u001b[39m\u001b[38;5;124m\"\u001b[39m\u001b[38;5;124mint64\u001b[39m\u001b[38;5;124m\"\u001b[39m, aggregation\u001b[38;5;241m=\u001b[39magg)\n",
      "File \u001b[1;32m~\\AppData\\Local\\Programs\\Python\\Python310\\lib\\site-packages\\tensorflow\\python\\util\\traceback_utils.py:150\u001b[0m, in \u001b[0;36mfilter_traceback.<locals>.error_handler\u001b[1;34m(*args, **kwargs)\u001b[0m\n\u001b[0;32m    148\u001b[0m filtered_tb \u001b[38;5;241m=\u001b[39m \u001b[38;5;28;01mNone\u001b[39;00m\n\u001b[0;32m    149\u001b[0m \u001b[38;5;28;01mtry\u001b[39;00m:\n\u001b[1;32m--> 150\u001b[0m   \u001b[38;5;28;01mreturn\u001b[39;00m fn(\u001b[38;5;241m*\u001b[39margs, \u001b[38;5;241m*\u001b[39m\u001b[38;5;241m*\u001b[39mkwargs)\n\u001b[0;32m    151\u001b[0m \u001b[38;5;28;01mexcept\u001b[39;00m \u001b[38;5;167;01mException\u001b[39;00m \u001b[38;5;28;01mas\u001b[39;00m e:\n\u001b[0;32m    152\u001b[0m   filtered_tb \u001b[38;5;241m=\u001b[39m _process_traceback_frames(e\u001b[38;5;241m.\u001b[39m__traceback__)\n",
      "File \u001b[1;32m~\\AppData\\Local\\Programs\\Python\\Python310\\lib\\site-packages\\tensorflow\\python\\ops\\variables.py:271\u001b[0m, in \u001b[0;36mVariableMetaclass.__call__\u001b[1;34m(cls, *args, **kwargs)\u001b[0m\n\u001b[0;32m    269\u001b[0m   \u001b[38;5;28;01mreturn\u001b[39;00m \u001b[38;5;28mcls\u001b[39m\u001b[38;5;241m.\u001b[39m_variable_v1_call(\u001b[38;5;241m*\u001b[39margs, \u001b[38;5;241m*\u001b[39m\u001b[38;5;241m*\u001b[39mkwargs)\n\u001b[0;32m    270\u001b[0m \u001b[38;5;28;01melif\u001b[39;00m \u001b[38;5;28mcls\u001b[39m \u001b[38;5;129;01mis\u001b[39;00m Variable:\n\u001b[1;32m--> 271\u001b[0m   \u001b[38;5;28;01mreturn\u001b[39;00m \u001b[38;5;28mcls\u001b[39m\u001b[38;5;241m.\u001b[39m_variable_v2_call(\u001b[38;5;241m*\u001b[39margs, \u001b[38;5;241m*\u001b[39m\u001b[38;5;241m*\u001b[39mkwargs)\n\u001b[0;32m    272\u001b[0m \u001b[38;5;28;01melse\u001b[39;00m:\n\u001b[0;32m    273\u001b[0m   \u001b[38;5;28;01mreturn\u001b[39;00m \u001b[38;5;28msuper\u001b[39m(VariableMetaclass, \u001b[38;5;28mcls\u001b[39m)\u001b[38;5;241m.\u001b[39m\u001b[38;5;21m__call__\u001b[39m(\u001b[38;5;241m*\u001b[39margs, \u001b[38;5;241m*\u001b[39m\u001b[38;5;241m*\u001b[39mkwargs)\n",
      "File \u001b[1;32m~\\AppData\\Local\\Programs\\Python\\Python310\\lib\\site-packages\\tensorflow\\python\\ops\\variables.py:250\u001b[0m, in \u001b[0;36mVariableMetaclass._variable_v2_call\u001b[1;34m(cls, initial_value, trainable, validate_shape, caching_device, name, variable_def, dtype, import_scope, constraint, synchronization, aggregation, shape, experimental_enable_variable_lifting)\u001b[0m\n\u001b[0;32m    248\u001b[0m \u001b[38;5;28;01mif\u001b[39;00m aggregation \u001b[38;5;129;01mis\u001b[39;00m \u001b[38;5;28;01mNone\u001b[39;00m:\n\u001b[0;32m    249\u001b[0m   aggregation \u001b[38;5;241m=\u001b[39m VariableAggregation\u001b[38;5;241m.\u001b[39mNONE\n\u001b[1;32m--> 250\u001b[0m \u001b[38;5;28;01mreturn\u001b[39;00m \u001b[43mprevious_getter\u001b[49m\u001b[43m(\u001b[49m\n\u001b[0;32m    251\u001b[0m \u001b[43m    \u001b[49m\u001b[43minitial_value\u001b[49m\u001b[38;5;241;43m=\u001b[39;49m\u001b[43minitial_value\u001b[49m\u001b[43m,\u001b[49m\n\u001b[0;32m    252\u001b[0m \u001b[43m    \u001b[49m\u001b[43mtrainable\u001b[49m\u001b[38;5;241;43m=\u001b[39;49m\u001b[43mtrainable\u001b[49m\u001b[43m,\u001b[49m\n\u001b[0;32m    253\u001b[0m \u001b[43m    \u001b[49m\u001b[43mvalidate_shape\u001b[49m\u001b[38;5;241;43m=\u001b[39;49m\u001b[43mvalidate_shape\u001b[49m\u001b[43m,\u001b[49m\n\u001b[0;32m    254\u001b[0m \u001b[43m    \u001b[49m\u001b[43mcaching_device\u001b[49m\u001b[38;5;241;43m=\u001b[39;49m\u001b[43mcaching_device\u001b[49m\u001b[43m,\u001b[49m\n\u001b[0;32m    255\u001b[0m \u001b[43m    \u001b[49m\u001b[43mname\u001b[49m\u001b[38;5;241;43m=\u001b[39;49m\u001b[43mname\u001b[49m\u001b[43m,\u001b[49m\n\u001b[0;32m    256\u001b[0m \u001b[43m    \u001b[49m\u001b[43mvariable_def\u001b[49m\u001b[38;5;241;43m=\u001b[39;49m\u001b[43mvariable_def\u001b[49m\u001b[43m,\u001b[49m\n\u001b[0;32m    257\u001b[0m \u001b[43m    \u001b[49m\u001b[43mdtype\u001b[49m\u001b[38;5;241;43m=\u001b[39;49m\u001b[43mdtype\u001b[49m\u001b[43m,\u001b[49m\n\u001b[0;32m    258\u001b[0m \u001b[43m    \u001b[49m\u001b[43mimport_scope\u001b[49m\u001b[38;5;241;43m=\u001b[39;49m\u001b[43mimport_scope\u001b[49m\u001b[43m,\u001b[49m\n\u001b[0;32m    259\u001b[0m \u001b[43m    \u001b[49m\u001b[43mconstraint\u001b[49m\u001b[38;5;241;43m=\u001b[39;49m\u001b[43mconstraint\u001b[49m\u001b[43m,\u001b[49m\n\u001b[0;32m    260\u001b[0m \u001b[43m    \u001b[49m\u001b[43msynchronization\u001b[49m\u001b[38;5;241;43m=\u001b[39;49m\u001b[43msynchronization\u001b[49m\u001b[43m,\u001b[49m\n\u001b[0;32m    261\u001b[0m \u001b[43m    \u001b[49m\u001b[43maggregation\u001b[49m\u001b[38;5;241;43m=\u001b[39;49m\u001b[43maggregation\u001b[49m\u001b[43m,\u001b[49m\n\u001b[0;32m    262\u001b[0m \u001b[43m    \u001b[49m\u001b[43mshape\u001b[49m\u001b[38;5;241;43m=\u001b[39;49m\u001b[43mshape\u001b[49m\u001b[43m,\u001b[49m\n\u001b[0;32m    263\u001b[0m \u001b[43m    \u001b[49m\u001b[43mexperimental_enable_variable_lifting\u001b[49m\u001b[38;5;241;43m=\u001b[39;49m\u001b[43mexperimental_enable_variable_lifting\u001b[49m\u001b[43m,\u001b[49m\n\u001b[0;32m    264\u001b[0m \u001b[43m    \u001b[49m\u001b[43m)\u001b[49m\n",
      "File \u001b[1;32m~\\AppData\\Local\\Programs\\Python\\Python310\\lib\\site-packages\\tensorflow\\python\\ops\\variables.py:243\u001b[0m, in \u001b[0;36mVariableMetaclass._variable_v2_call.<locals>.<lambda>\u001b[1;34m(**kws)\u001b[0m\n\u001b[0;32m    227\u001b[0m \u001b[38;5;28;01mdef\u001b[39;00m \u001b[38;5;21m_variable_v2_call\u001b[39m(\u001b[38;5;28mcls\u001b[39m,\n\u001b[0;32m    228\u001b[0m                       initial_value\u001b[38;5;241m=\u001b[39m\u001b[38;5;28;01mNone\u001b[39;00m,\n\u001b[0;32m    229\u001b[0m                       trainable\u001b[38;5;241m=\u001b[39m\u001b[38;5;28;01mNone\u001b[39;00m,\n\u001b[1;32m   (...)\u001b[0m\n\u001b[0;32m    240\u001b[0m                       experimental_enable_variable_lifting\u001b[38;5;241m=\u001b[39m\u001b[38;5;28;01mNone\u001b[39;00m,\n\u001b[0;32m    241\u001b[0m                       ):\n\u001b[0;32m    242\u001b[0m   \u001b[38;5;124;03m\"\"\"Call on Variable class. Useful to force the signature.\"\"\"\u001b[39;00m\n\u001b[1;32m--> 243\u001b[0m   previous_getter \u001b[38;5;241m=\u001b[39m \u001b[38;5;28;01mlambda\u001b[39;00m \u001b[38;5;241m*\u001b[39m\u001b[38;5;241m*\u001b[39mkws: default_variable_creator_v2(\u001b[38;5;28;01mNone\u001b[39;00m, \u001b[38;5;241m*\u001b[39m\u001b[38;5;241m*\u001b[39mkws)\n\u001b[0;32m    244\u001b[0m   \u001b[38;5;28;01mfor\u001b[39;00m _, getter \u001b[38;5;129;01min\u001b[39;00m ops\u001b[38;5;241m.\u001b[39mget_default_graph()\u001b[38;5;241m.\u001b[39m_variable_creator_stack:  \u001b[38;5;66;03m# pylint: disable=protected-access\u001b[39;00m\n\u001b[0;32m    245\u001b[0m     previous_getter \u001b[38;5;241m=\u001b[39m _make_getter(getter, previous_getter)\n",
      "File \u001b[1;32m~\\AppData\\Local\\Programs\\Python\\Python310\\lib\\site-packages\\tensorflow\\python\\ops\\variable_scope.py:2758\u001b[0m, in \u001b[0;36mdefault_variable_creator_v2\u001b[1;34m(next_creator, **kwargs)\u001b[0m\n\u001b[0;32m   2754\u001b[0m shape \u001b[38;5;241m=\u001b[39m kwargs\u001b[38;5;241m.\u001b[39mget(\u001b[38;5;124m\"\u001b[39m\u001b[38;5;124mshape\u001b[39m\u001b[38;5;124m\"\u001b[39m, \u001b[38;5;28;01mNone\u001b[39;00m)\n\u001b[0;32m   2755\u001b[0m experimental_enable_variable_lifting \u001b[38;5;241m=\u001b[39m kwargs\u001b[38;5;241m.\u001b[39mget(\n\u001b[0;32m   2756\u001b[0m     \u001b[38;5;124m\"\u001b[39m\u001b[38;5;124mexperimental_enable_variable_lifting\u001b[39m\u001b[38;5;124m\"\u001b[39m, \u001b[38;5;28;01mNone\u001b[39;00m)\n\u001b[1;32m-> 2758\u001b[0m \u001b[38;5;28;01mreturn\u001b[39;00m \u001b[43mresource_variable_ops\u001b[49m\u001b[38;5;241;43m.\u001b[39;49m\u001b[43mResourceVariable\u001b[49m\u001b[43m(\u001b[49m\n\u001b[0;32m   2759\u001b[0m \u001b[43m    \u001b[49m\u001b[43minitial_value\u001b[49m\u001b[38;5;241;43m=\u001b[39;49m\u001b[43minitial_value\u001b[49m\u001b[43m,\u001b[49m\n\u001b[0;32m   2760\u001b[0m \u001b[43m    \u001b[49m\u001b[43mtrainable\u001b[49m\u001b[38;5;241;43m=\u001b[39;49m\u001b[43mtrainable\u001b[49m\u001b[43m,\u001b[49m\n\u001b[0;32m   2761\u001b[0m \u001b[43m    \u001b[49m\u001b[43mvalidate_shape\u001b[49m\u001b[38;5;241;43m=\u001b[39;49m\u001b[43mvalidate_shape\u001b[49m\u001b[43m,\u001b[49m\n\u001b[0;32m   2762\u001b[0m \u001b[43m    \u001b[49m\u001b[43mcaching_device\u001b[49m\u001b[38;5;241;43m=\u001b[39;49m\u001b[43mcaching_device\u001b[49m\u001b[43m,\u001b[49m\n\u001b[0;32m   2763\u001b[0m \u001b[43m    \u001b[49m\u001b[43mname\u001b[49m\u001b[38;5;241;43m=\u001b[39;49m\u001b[43mname\u001b[49m\u001b[43m,\u001b[49m\n\u001b[0;32m   2764\u001b[0m \u001b[43m    \u001b[49m\u001b[43mdtype\u001b[49m\u001b[38;5;241;43m=\u001b[39;49m\u001b[43mdtype\u001b[49m\u001b[43m,\u001b[49m\n\u001b[0;32m   2765\u001b[0m \u001b[43m    \u001b[49m\u001b[43mconstraint\u001b[49m\u001b[38;5;241;43m=\u001b[39;49m\u001b[43mconstraint\u001b[49m\u001b[43m,\u001b[49m\n\u001b[0;32m   2766\u001b[0m \u001b[43m    \u001b[49m\u001b[43mvariable_def\u001b[49m\u001b[38;5;241;43m=\u001b[39;49m\u001b[43mvariable_def\u001b[49m\u001b[43m,\u001b[49m\n\u001b[0;32m   2767\u001b[0m \u001b[43m    \u001b[49m\u001b[43mimport_scope\u001b[49m\u001b[38;5;241;43m=\u001b[39;49m\u001b[43mimport_scope\u001b[49m\u001b[43m,\u001b[49m\n\u001b[0;32m   2768\u001b[0m \u001b[43m    \u001b[49m\u001b[43mdistribute_strategy\u001b[49m\u001b[38;5;241;43m=\u001b[39;49m\u001b[43mdistribute_strategy\u001b[49m\u001b[43m,\u001b[49m\n\u001b[0;32m   2769\u001b[0m \u001b[43m    \u001b[49m\u001b[43msynchronization\u001b[49m\u001b[38;5;241;43m=\u001b[39;49m\u001b[43msynchronization\u001b[49m\u001b[43m,\u001b[49m\n\u001b[0;32m   2770\u001b[0m \u001b[43m    \u001b[49m\u001b[43maggregation\u001b[49m\u001b[38;5;241;43m=\u001b[39;49m\u001b[43maggregation\u001b[49m\u001b[43m,\u001b[49m\n\u001b[0;32m   2771\u001b[0m \u001b[43m    \u001b[49m\u001b[43mshape\u001b[49m\u001b[38;5;241;43m=\u001b[39;49m\u001b[43mshape\u001b[49m\u001b[43m,\u001b[49m\n\u001b[0;32m   2772\u001b[0m \u001b[43m    \u001b[49m\u001b[43mexperimental_enable_variable_lifting\u001b[49m\u001b[38;5;241;43m=\u001b[39;49m\u001b[43mexperimental_enable_variable_lifting\u001b[49m\u001b[43m,\u001b[49m\n\u001b[0;32m   2773\u001b[0m \u001b[43m    \u001b[49m\u001b[43m)\u001b[49m\n",
      "File \u001b[1;32m~\\AppData\\Local\\Programs\\Python\\Python310\\lib\\site-packages\\tensorflow\\python\\util\\traceback_utils.py:150\u001b[0m, in \u001b[0;36mfilter_traceback.<locals>.error_handler\u001b[1;34m(*args, **kwargs)\u001b[0m\n\u001b[0;32m    148\u001b[0m filtered_tb \u001b[38;5;241m=\u001b[39m \u001b[38;5;28;01mNone\u001b[39;00m\n\u001b[0;32m    149\u001b[0m \u001b[38;5;28;01mtry\u001b[39;00m:\n\u001b[1;32m--> 150\u001b[0m   \u001b[38;5;28;01mreturn\u001b[39;00m fn(\u001b[38;5;241m*\u001b[39margs, \u001b[38;5;241m*\u001b[39m\u001b[38;5;241m*\u001b[39mkwargs)\n\u001b[0;32m    151\u001b[0m \u001b[38;5;28;01mexcept\u001b[39;00m \u001b[38;5;167;01mException\u001b[39;00m \u001b[38;5;28;01mas\u001b[39;00m e:\n\u001b[0;32m    152\u001b[0m   filtered_tb \u001b[38;5;241m=\u001b[39m _process_traceback_frames(e\u001b[38;5;241m.\u001b[39m__traceback__)\n",
      "File \u001b[1;32m~\\AppData\\Local\\Programs\\Python\\Python310\\lib\\site-packages\\tensorflow\\python\\ops\\variables.py:273\u001b[0m, in \u001b[0;36mVariableMetaclass.__call__\u001b[1;34m(cls, *args, **kwargs)\u001b[0m\n\u001b[0;32m    271\u001b[0m   \u001b[38;5;28;01mreturn\u001b[39;00m \u001b[38;5;28mcls\u001b[39m\u001b[38;5;241m.\u001b[39m_variable_v2_call(\u001b[38;5;241m*\u001b[39margs, \u001b[38;5;241m*\u001b[39m\u001b[38;5;241m*\u001b[39mkwargs)\n\u001b[0;32m    272\u001b[0m \u001b[38;5;28;01melse\u001b[39;00m:\n\u001b[1;32m--> 273\u001b[0m   \u001b[38;5;28;01mreturn\u001b[39;00m \u001b[38;5;28msuper\u001b[39m(VariableMetaclass, \u001b[38;5;28mcls\u001b[39m)\u001b[38;5;241m.\u001b[39m\u001b[38;5;21m__call__\u001b[39m(\u001b[38;5;241m*\u001b[39margs, \u001b[38;5;241m*\u001b[39m\u001b[38;5;241m*\u001b[39mkwargs)\n",
      "File \u001b[1;32m~\\AppData\\Local\\Programs\\Python\\Python310\\lib\\site-packages\\tensorflow\\python\\ops\\resource_variable_ops.py:1721\u001b[0m, in \u001b[0;36mResourceVariable.__init__\u001b[1;34m(self, initial_value, trainable, collections, validate_shape, caching_device, name, dtype, variable_def, import_scope, constraint, distribute_strategy, synchronization, aggregation, shape, handle, experimental_enable_variable_lifting)\u001b[0m\n\u001b[0;32m   1716\u001b[0m   \u001b[38;5;28mself\u001b[39m\u001b[38;5;241m.\u001b[39m_init_from_handle(trainable\u001b[38;5;241m=\u001b[39mtrainable,\n\u001b[0;32m   1717\u001b[0m                          shape\u001b[38;5;241m=\u001b[39mshape,\n\u001b[0;32m   1718\u001b[0m                          dtype\u001b[38;5;241m=\u001b[39mdtype,\n\u001b[0;32m   1719\u001b[0m                          handle\u001b[38;5;241m=\u001b[39mhandle)\n\u001b[0;32m   1720\u001b[0m \u001b[38;5;28;01melse\u001b[39;00m:\n\u001b[1;32m-> 1721\u001b[0m   \u001b[38;5;28;43mself\u001b[39;49m\u001b[38;5;241;43m.\u001b[39;49m\u001b[43m_init_from_args\u001b[49m\u001b[43m(\u001b[49m\n\u001b[0;32m   1722\u001b[0m \u001b[43m      \u001b[49m\u001b[43minitial_value\u001b[49m\u001b[38;5;241;43m=\u001b[39;49m\u001b[43minitial_value\u001b[49m\u001b[43m,\u001b[49m\n\u001b[0;32m   1723\u001b[0m \u001b[43m      \u001b[49m\u001b[43mtrainable\u001b[49m\u001b[38;5;241;43m=\u001b[39;49m\u001b[43mtrainable\u001b[49m\u001b[43m,\u001b[49m\n\u001b[0;32m   1724\u001b[0m \u001b[43m      \u001b[49m\u001b[43mcollections\u001b[49m\u001b[38;5;241;43m=\u001b[39;49m\u001b[43mcollections\u001b[49m\u001b[43m,\u001b[49m\n\u001b[0;32m   1725\u001b[0m \u001b[43m      \u001b[49m\u001b[43mcaching_device\u001b[49m\u001b[38;5;241;43m=\u001b[39;49m\u001b[43mcaching_device\u001b[49m\u001b[43m,\u001b[49m\n\u001b[0;32m   1726\u001b[0m \u001b[43m      \u001b[49m\u001b[43mname\u001b[49m\u001b[38;5;241;43m=\u001b[39;49m\u001b[43mname\u001b[49m\u001b[43m,\u001b[49m\n\u001b[0;32m   1727\u001b[0m \u001b[43m      \u001b[49m\u001b[43mdtype\u001b[49m\u001b[38;5;241;43m=\u001b[39;49m\u001b[43mdtype\u001b[49m\u001b[43m,\u001b[49m\n\u001b[0;32m   1728\u001b[0m \u001b[43m      \u001b[49m\u001b[43mconstraint\u001b[49m\u001b[38;5;241;43m=\u001b[39;49m\u001b[43mconstraint\u001b[49m\u001b[43m,\u001b[49m\n\u001b[0;32m   1729\u001b[0m \u001b[43m      \u001b[49m\u001b[43msynchronization\u001b[49m\u001b[38;5;241;43m=\u001b[39;49m\u001b[43msynchronization\u001b[49m\u001b[43m,\u001b[49m\n\u001b[0;32m   1730\u001b[0m \u001b[43m      \u001b[49m\u001b[43maggregation\u001b[49m\u001b[38;5;241;43m=\u001b[39;49m\u001b[43maggregation\u001b[49m\u001b[43m,\u001b[49m\n\u001b[0;32m   1731\u001b[0m \u001b[43m      \u001b[49m\u001b[43mshape\u001b[49m\u001b[38;5;241;43m=\u001b[39;49m\u001b[43mshape\u001b[49m\u001b[43m,\u001b[49m\n\u001b[0;32m   1732\u001b[0m \u001b[43m      \u001b[49m\u001b[43mdistribute_strategy\u001b[49m\u001b[38;5;241;43m=\u001b[39;49m\u001b[43mdistribute_strategy\u001b[49m\u001b[43m,\u001b[49m\n\u001b[0;32m   1733\u001b[0m \u001b[43m      \u001b[49m\u001b[43mvalidate_shape\u001b[49m\u001b[38;5;241;43m=\u001b[39;49m\u001b[43mvalidate_shape\u001b[49m\u001b[43m,\u001b[49m\n\u001b[0;32m   1734\u001b[0m \u001b[43m      \u001b[49m\u001b[43mexperimental_enable_variable_lifting\u001b[49m\u001b[38;5;241;43m=\u001b[39;49m\u001b[43mexperimental_enable_variable_lifting\u001b[49m\u001b[43m,\u001b[49m\n\u001b[0;32m   1735\u001b[0m \u001b[43m      \u001b[49m\u001b[43m)\u001b[49m\n",
      "File \u001b[1;32m~\\AppData\\Local\\Programs\\Python\\Python310\\lib\\site-packages\\tensorflow\\python\\ops\\resource_variable_ops.py:1910\u001b[0m, in \u001b[0;36mResourceVariable._init_from_args\u001b[1;34m(self, initial_value, trainable, collections, caching_device, name, dtype, constraint, synchronization, aggregation, distribute_strategy, shape, validate_shape, experimental_enable_variable_lifting)\u001b[0m\n\u001b[0;32m   1908\u001b[0m     \u001b[38;5;28mself\u001b[39m\u001b[38;5;241m.\u001b[39m_update_uid \u001b[38;5;241m=\u001b[39m initial_value\u001b[38;5;241m.\u001b[39mcheckpoint_position\u001b[38;5;241m.\u001b[39mrestore_uid\n\u001b[0;32m   1909\u001b[0m     initial_value \u001b[38;5;241m=\u001b[39m initial_value\u001b[38;5;241m.\u001b[39mwrapped_value\n\u001b[1;32m-> 1910\u001b[0m   initial_value \u001b[38;5;241m=\u001b[39m \u001b[43mops\u001b[49m\u001b[38;5;241;43m.\u001b[39;49m\u001b[43mconvert_to_tensor\u001b[49m\u001b[43m(\u001b[49m\n\u001b[0;32m   1911\u001b[0m \u001b[43m      \u001b[49m\u001b[43minitial_value\u001b[49m\u001b[43m,\u001b[49m\u001b[43m \u001b[49m\u001b[43mname\u001b[49m\u001b[38;5;241;43m=\u001b[39;49m\u001b[38;5;124;43m\"\u001b[39;49m\u001b[38;5;124;43minitial_value\u001b[39;49m\u001b[38;5;124;43m\"\u001b[39;49m\u001b[43m,\u001b[49m\u001b[43m \u001b[49m\u001b[43mdtype\u001b[49m\u001b[38;5;241;43m=\u001b[39;49m\u001b[43mdtype\u001b[49m\u001b[43m)\u001b[49m\n\u001b[0;32m   1912\u001b[0m \u001b[38;5;28;01mif\u001b[39;00m shape \u001b[38;5;129;01mis\u001b[39;00m \u001b[38;5;129;01mnot\u001b[39;00m \u001b[38;5;28;01mNone\u001b[39;00m:\n\u001b[0;32m   1913\u001b[0m   \u001b[38;5;28;01mif\u001b[39;00m \u001b[38;5;129;01mnot\u001b[39;00m initial_value\u001b[38;5;241m.\u001b[39mshape\u001b[38;5;241m.\u001b[39mis_compatible_with(shape):\n",
      "File \u001b[1;32m~\\AppData\\Local\\Programs\\Python\\Python310\\lib\\site-packages\\tensorflow\\python\\profiler\\trace.py:183\u001b[0m, in \u001b[0;36mtrace_wrapper.<locals>.inner_wrapper.<locals>.wrapped\u001b[1;34m(*args, **kwargs)\u001b[0m\n\u001b[0;32m    181\u001b[0m   \u001b[38;5;28;01mwith\u001b[39;00m Trace(trace_name, \u001b[38;5;241m*\u001b[39m\u001b[38;5;241m*\u001b[39mtrace_kwargs):\n\u001b[0;32m    182\u001b[0m     \u001b[38;5;28;01mreturn\u001b[39;00m func(\u001b[38;5;241m*\u001b[39margs, \u001b[38;5;241m*\u001b[39m\u001b[38;5;241m*\u001b[39mkwargs)\n\u001b[1;32m--> 183\u001b[0m \u001b[38;5;28;01mreturn\u001b[39;00m func(\u001b[38;5;241m*\u001b[39margs, \u001b[38;5;241m*\u001b[39m\u001b[38;5;241m*\u001b[39mkwargs)\n",
      "File \u001b[1;32m~\\AppData\\Local\\Programs\\Python\\Python310\\lib\\site-packages\\tensorflow\\python\\framework\\ops.py:1636\u001b[0m, in \u001b[0;36mconvert_to_tensor\u001b[1;34m(value, dtype, name, as_ref, preferred_dtype, dtype_hint, ctx, accepted_result_types)\u001b[0m\n\u001b[0;32m   1627\u001b[0m       \u001b[38;5;28;01mraise\u001b[39;00m \u001b[38;5;167;01mRuntimeError\u001b[39;00m(\n\u001b[0;32m   1628\u001b[0m           _add_error_prefix(\n\u001b[0;32m   1629\u001b[0m               \u001b[38;5;124mf\u001b[39m\u001b[38;5;124m\"\u001b[39m\u001b[38;5;124mConversion function \u001b[39m\u001b[38;5;132;01m{\u001b[39;00mconversion_func\u001b[38;5;132;01m!r}\u001b[39;00m\u001b[38;5;124m for type \u001b[39m\u001b[38;5;124m\"\u001b[39m\n\u001b[1;32m   (...)\u001b[0m\n\u001b[0;32m   1632\u001b[0m               \u001b[38;5;124mf\u001b[39m\u001b[38;5;124m\"\u001b[39m\u001b[38;5;124mactual = \u001b[39m\u001b[38;5;132;01m{\u001b[39;00mret\u001b[38;5;241m.\u001b[39mdtype\u001b[38;5;241m.\u001b[39mbase_dtype\u001b[38;5;241m.\u001b[39mname\u001b[38;5;132;01m}\u001b[39;00m\u001b[38;5;124m\"\u001b[39m,\n\u001b[0;32m   1633\u001b[0m               name\u001b[38;5;241m=\u001b[39mname))\n\u001b[0;32m   1635\u001b[0m \u001b[38;5;28;01mif\u001b[39;00m ret \u001b[38;5;129;01mis\u001b[39;00m \u001b[38;5;28;01mNone\u001b[39;00m:\n\u001b[1;32m-> 1636\u001b[0m   ret \u001b[38;5;241m=\u001b[39m \u001b[43mconversion_func\u001b[49m\u001b[43m(\u001b[49m\u001b[43mvalue\u001b[49m\u001b[43m,\u001b[49m\u001b[43m \u001b[49m\u001b[43mdtype\u001b[49m\u001b[38;5;241;43m=\u001b[39;49m\u001b[43mdtype\u001b[49m\u001b[43m,\u001b[49m\u001b[43m \u001b[49m\u001b[43mname\u001b[49m\u001b[38;5;241;43m=\u001b[39;49m\u001b[43mname\u001b[49m\u001b[43m,\u001b[49m\u001b[43m \u001b[49m\u001b[43mas_ref\u001b[49m\u001b[38;5;241;43m=\u001b[39;49m\u001b[43mas_ref\u001b[49m\u001b[43m)\u001b[49m\n\u001b[0;32m   1638\u001b[0m \u001b[38;5;28;01mif\u001b[39;00m ret \u001b[38;5;129;01mis\u001b[39;00m \u001b[38;5;28mNotImplemented\u001b[39m:\n\u001b[0;32m   1639\u001b[0m   \u001b[38;5;28;01mcontinue\u001b[39;00m\n",
      "File \u001b[1;32m~\\AppData\\Local\\Programs\\Python\\Python310\\lib\\site-packages\\tensorflow\\python\\framework\\tensor_conversion_registry.py:48\u001b[0m, in \u001b[0;36m_default_conversion_function\u001b[1;34m(***failed resolving arguments***)\u001b[0m\n\u001b[0;32m     46\u001b[0m \u001b[38;5;28;01mdef\u001b[39;00m \u001b[38;5;21m_default_conversion_function\u001b[39m(value, dtype, name, as_ref):\n\u001b[0;32m     47\u001b[0m   \u001b[38;5;28;01mdel\u001b[39;00m as_ref  \u001b[38;5;66;03m# Unused.\u001b[39;00m\n\u001b[1;32m---> 48\u001b[0m   \u001b[38;5;28;01mreturn\u001b[39;00m \u001b[43mconstant_op\u001b[49m\u001b[38;5;241;43m.\u001b[39;49m\u001b[43mconstant\u001b[49m\u001b[43m(\u001b[49m\u001b[43mvalue\u001b[49m\u001b[43m,\u001b[49m\u001b[43m \u001b[49m\u001b[43mdtype\u001b[49m\u001b[43m,\u001b[49m\u001b[43m \u001b[49m\u001b[43mname\u001b[49m\u001b[38;5;241;43m=\u001b[39;49m\u001b[43mname\u001b[49m\u001b[43m)\u001b[49m\n",
      "File \u001b[1;32m~\\AppData\\Local\\Programs\\Python\\Python310\\lib\\site-packages\\tensorflow\\python\\framework\\constant_op.py:267\u001b[0m, in \u001b[0;36mconstant\u001b[1;34m(value, dtype, shape, name)\u001b[0m\n\u001b[0;32m    170\u001b[0m \u001b[38;5;129m@tf_export\u001b[39m(\u001b[38;5;124m\"\u001b[39m\u001b[38;5;124mconstant\u001b[39m\u001b[38;5;124m\"\u001b[39m, v1\u001b[38;5;241m=\u001b[39m[])\n\u001b[0;32m    171\u001b[0m \u001b[38;5;28;01mdef\u001b[39;00m \u001b[38;5;21mconstant\u001b[39m(value, dtype\u001b[38;5;241m=\u001b[39m\u001b[38;5;28;01mNone\u001b[39;00m, shape\u001b[38;5;241m=\u001b[39m\u001b[38;5;28;01mNone\u001b[39;00m, name\u001b[38;5;241m=\u001b[39m\u001b[38;5;124m\"\u001b[39m\u001b[38;5;124mConst\u001b[39m\u001b[38;5;124m\"\u001b[39m):\n\u001b[0;32m    172\u001b[0m   \u001b[38;5;124;03m\"\"\"Creates a constant tensor from a tensor-like object.\u001b[39;00m\n\u001b[0;32m    173\u001b[0m \n\u001b[0;32m    174\u001b[0m \u001b[38;5;124;03m  Note: All eager `tf.Tensor` values are immutable (in contrast to\u001b[39;00m\n\u001b[1;32m   (...)\u001b[0m\n\u001b[0;32m    265\u001b[0m \u001b[38;5;124;03m    ValueError: if called on a symbolic tensor.\u001b[39;00m\n\u001b[0;32m    266\u001b[0m \u001b[38;5;124;03m  \"\"\"\u001b[39;00m\n\u001b[1;32m--> 267\u001b[0m   \u001b[38;5;28;01mreturn\u001b[39;00m \u001b[43m_constant_impl\u001b[49m\u001b[43m(\u001b[49m\u001b[43mvalue\u001b[49m\u001b[43m,\u001b[49m\u001b[43m \u001b[49m\u001b[43mdtype\u001b[49m\u001b[43m,\u001b[49m\u001b[43m \u001b[49m\u001b[43mshape\u001b[49m\u001b[43m,\u001b[49m\u001b[43m \u001b[49m\u001b[43mname\u001b[49m\u001b[43m,\u001b[49m\u001b[43m \u001b[49m\u001b[43mverify_shape\u001b[49m\u001b[38;5;241;43m=\u001b[39;49m\u001b[38;5;28;43;01mFalse\u001b[39;49;00m\u001b[43m,\u001b[49m\n\u001b[0;32m    268\u001b[0m \u001b[43m                        \u001b[49m\u001b[43mallow_broadcast\u001b[49m\u001b[38;5;241;43m=\u001b[39;49m\u001b[38;5;28;43;01mTrue\u001b[39;49;00m\u001b[43m)\u001b[49m\n",
      "File \u001b[1;32m~\\AppData\\Local\\Programs\\Python\\Python310\\lib\\site-packages\\tensorflow\\python\\framework\\constant_op.py:279\u001b[0m, in \u001b[0;36m_constant_impl\u001b[1;34m(value, dtype, shape, name, verify_shape, allow_broadcast)\u001b[0m\n\u001b[0;32m    277\u001b[0m     \u001b[38;5;28;01mwith\u001b[39;00m trace\u001b[38;5;241m.\u001b[39mTrace(\u001b[38;5;124m\"\u001b[39m\u001b[38;5;124mtf.constant\u001b[39m\u001b[38;5;124m\"\u001b[39m):\n\u001b[0;32m    278\u001b[0m       \u001b[38;5;28;01mreturn\u001b[39;00m _constant_eager_impl(ctx, value, dtype, shape, verify_shape)\n\u001b[1;32m--> 279\u001b[0m   \u001b[38;5;28;01mreturn\u001b[39;00m \u001b[43m_constant_eager_impl\u001b[49m\u001b[43m(\u001b[49m\u001b[43mctx\u001b[49m\u001b[43m,\u001b[49m\u001b[43m \u001b[49m\u001b[43mvalue\u001b[49m\u001b[43m,\u001b[49m\u001b[43m \u001b[49m\u001b[43mdtype\u001b[49m\u001b[43m,\u001b[49m\u001b[43m \u001b[49m\u001b[43mshape\u001b[49m\u001b[43m,\u001b[49m\u001b[43m \u001b[49m\u001b[43mverify_shape\u001b[49m\u001b[43m)\u001b[49m\n\u001b[0;32m    281\u001b[0m g \u001b[38;5;241m=\u001b[39m ops\u001b[38;5;241m.\u001b[39mget_default_graph()\n\u001b[0;32m    282\u001b[0m tensor_value \u001b[38;5;241m=\u001b[39m attr_value_pb2\u001b[38;5;241m.\u001b[39mAttrValue()\n",
      "File \u001b[1;32m~\\AppData\\Local\\Programs\\Python\\Python310\\lib\\site-packages\\tensorflow\\python\\framework\\constant_op.py:304\u001b[0m, in \u001b[0;36m_constant_eager_impl\u001b[1;34m(ctx, value, dtype, shape, verify_shape)\u001b[0m\n\u001b[0;32m    302\u001b[0m \u001b[38;5;28;01mdef\u001b[39;00m \u001b[38;5;21m_constant_eager_impl\u001b[39m(ctx, value, dtype, shape, verify_shape):\n\u001b[0;32m    303\u001b[0m   \u001b[38;5;124;03m\"\"\"Creates a constant on the current device.\"\"\"\u001b[39;00m\n\u001b[1;32m--> 304\u001b[0m   t \u001b[38;5;241m=\u001b[39m \u001b[43mconvert_to_eager_tensor\u001b[49m\u001b[43m(\u001b[49m\u001b[43mvalue\u001b[49m\u001b[43m,\u001b[49m\u001b[43m \u001b[49m\u001b[43mctx\u001b[49m\u001b[43m,\u001b[49m\u001b[43m \u001b[49m\u001b[43mdtype\u001b[49m\u001b[43m)\u001b[49m\n\u001b[0;32m    305\u001b[0m   \u001b[38;5;28;01mif\u001b[39;00m shape \u001b[38;5;129;01mis\u001b[39;00m \u001b[38;5;28;01mNone\u001b[39;00m:\n\u001b[0;32m    306\u001b[0m     \u001b[38;5;28;01mreturn\u001b[39;00m t\n",
      "\u001b[1;31mKeyboardInterrupt\u001b[0m: "
     ]
    }
   ],
   "source": [
    "def Convolutional_Neural_Network_Model():\n",
    "    # create model\n",
    "    model = Sequential()\n",
    "    model.add(Conv2D(32, (5, 5), input_shape=(100, 100, 3), activation='relu'))\n",
    "    model.add(MaxPooling2D())\n",
    "    model.add(Conv2D(64, (5\n",
    "                          , 5), activation='relu'))\n",
    "    model.add(MaxPooling2D())\n",
    "    model.add(Conv2D(64, (5, 5), activation='relu'))\n",
    "    model.add(MaxPooling2D())\n",
    "    # model.add(Dropout(0.2))\n",
    "    model.add(Flatten())\n",
    "    model.add(Dense(128, activation='relu'))\n",
    "    model.add(Dense(10, activation='softmax'))\n",
    "    # Compile model\n",
    "    model.compile(loss='categorical_crossentropy', optimizer='adam', metrics=['accuracy'])\n",
    "    return model\n",
    "\n",
    "model_Architecture_CNN=Convolutional_Neural_Network_Model()"
   ]
  },
  {
   "cell_type": "markdown",
   "id": "4db470e7",
   "metadata": {},
   "source": [
    "# CNN MODEL EVALUATION"
   ]
  },
  {
   "cell_type": "code",
   "execution_count": null,
   "id": "8a35cc74",
   "metadata": {
    "scrolled": false
   },
   "outputs": [],
   "source": [
    "scoreOfVal_Architecture_CNN= evaluate_model(model_Architecture_CNN, x_Train, y_Train)\n",
    "\n",
    "\n",
    "x = model_Architecture_CNN.fit(x_Train,y_Train,epochs=10,batch_size=128,\n",
    "                max_queue_size=20,\n",
    "                use_multiprocessing=True,\n",
    "                workers=1,validation_data=(x_Test, y_Test))"
   ]
  },
  {
   "cell_type": "code",
   "execution_count": null,
   "id": "d9c2820a",
   "metadata": {},
   "outputs": [],
   "source": [
    "y_pred = model_Architecture_CNN.predict(x_Test)"
   ]
  },
  {
   "cell_type": "markdown",
   "id": "ed8169ed",
   "metadata": {},
   "source": [
    "### ACCURACY FOR CNN MODEL"
   ]
  },
  {
   "cell_type": "code",
   "execution_count": null,
   "id": "ab84a585",
   "metadata": {},
   "outputs": [],
   "source": [
    "scores = model_Architecture_CNN.evaluate(x_Test, y_Test, verbose=0)\n",
    "print(\"Accuracy: %.0f%%\" % (scores[1]*100))"
   ]
  },
  {
   "cell_type": "markdown",
   "id": "554381e5",
   "metadata": {},
   "source": [
    "### PRECISION,RECALL and F1 SCORE"
   ]
  },
  {
   "cell_type": "code",
   "execution_count": null,
   "id": "64d407dd",
   "metadata": {
    "scrolled": true
   },
   "outputs": [],
   "source": [
    "applyModel(model_Architecture_CNN,scoreOfVal_Architecture_CNN)"
   ]
  },
  {
   "cell_type": "markdown",
   "id": "87a5d837",
   "metadata": {},
   "source": [
    "### Summary for CNN"
   ]
  },
  {
   "cell_type": "code",
   "execution_count": null,
   "id": "21e88f1f",
   "metadata": {},
   "outputs": [],
   "source": [
    "model_Architecture_CNN.summary()"
   ]
  },
  {
   "cell_type": "markdown",
   "id": "0cd1545c",
   "metadata": {},
   "source": [
    "# DECISION TREE 'CLASSIFIER MODEL'"
   ]
  },
  {
   "cell_type": "code",
   "execution_count": null,
   "id": "20dd7ba3",
   "metadata": {},
   "outputs": [],
   "source": [
    "X_train_RGB_ = x_Train.reshape(x_Train.shape[0], 100 * 100 * 3)\n",
    "X_test_RGB_ = x_Test.reshape(x_Test.shape[0], 100 * 100 * 3)"
   ]
  },
  {
   "cell_type": "code",
   "execution_count": null,
   "id": "95aaef68",
   "metadata": {},
   "outputs": [],
   "source": [
    "from sklearn.tree import DecisionTreeClassifier\n",
    "from sklearn.metrics import accuracy_score\n",
    "\n",
    "model = DecisionTreeClassifier()\n",
    "model.fit(X_train_RGB_, y_Train)"
   ]
  },
  {
   "cell_type": "markdown",
   "id": "325b9ec4",
   "metadata": {},
   "source": [
    "### ACCURACY FOR DECISION TREE CLASSIFIER MODEL"
   ]
  },
  {
   "cell_type": "code",
   "execution_count": null,
   "id": "66e710d5",
   "metadata": {
    "scrolled": true
   },
   "outputs": [],
   "source": [
    "y_pred = model.predict(X_test_RGB_)\n",
    "print(\"Accuracy:\" , accuracy_score(y_Test, y_pred)*100,\"%\")"
   ]
  }
 ],
 "metadata": {
  "kernelspec": {
   "display_name": "Python 3 (ipykernel)",
   "language": "python",
   "name": "python3"
  },
  "language_info": {
   "codemirror_mode": {
    "name": "ipython",
    "version": 3
   },
   "file_extension": ".py",
   "mimetype": "text/x-python",
   "name": "python",
   "nbconvert_exporter": "python",
   "pygments_lexer": "ipython3",
   "version": "3.10.4"
  }
 },
 "nbformat": 4,
 "nbformat_minor": 5
}
